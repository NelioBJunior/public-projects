{
 "cells": [
  {
   "cell_type": "markdown",
   "id": "b99e9cf1-8d27-42ae-84a9-1982d7f8a503",
   "metadata": {},
   "source": [
    "# Data Science Tools and Ecosystem"
   ]
  },
  {
   "cell_type": "markdown",
   "id": "4ce0455e-8688-4d0d-b5c5-9573ac671620",
   "metadata": {},
   "source": [
    "In this notebook, Data Science Tools and Ecosystem are summarized.\n",
    "\n"
   ]
  },
  {
   "cell_type": "markdown",
   "id": "8511df1d-9875-442f-bfa8-563b233d0268",
   "metadata": {},
   "source": [
    "**Objectives:** \n",
    "- List popular languages for Data Science  \n",
    "- Identify commonly used libraries and tools in Data Science  \n",
    "- Create and format Markdown cells in a Jupyter Notebook  \n",
    "- Understand basic Jupyter Notebook operations  \n",
    "- Build simple tables and lists using Markdown"
   ]
  },
  {
   "cell_type": "markdown",
   "id": "09b394c1-000f-45e1-ad23-fb64471e63c5",
   "metadata": {},
   "source": [
    "Some of the popular languages that Data Scientists use are:\n",
    "1. Python\n",
    "2. SQL\n",
    "3. R"
   ]
  },
  {
   "cell_type": "markdown",
   "id": "ea35d913-df96-4d2d-aa61-653e8377fd90",
   "metadata": {},
   "source": [
    "Some of the commonly used libraries used by Data Scientists include:\n",
    "1. Pandas\n",
    "2. Numpy\n",
    "3. Sickit learn\n",
    "4. Tensor Flow\n",
    "5. Matplotlib"
   ]
  },
  {
   "cell_type": "markdown",
   "id": "00c9f638-1402-40f4-92ab-8d8bdbdf3487",
   "metadata": {},
   "source": [
    "|Data Science Tools|\n",
    "|------------------|\n",
    "|MongoDB|\n",
    "|Apache Spark|\n",
    "|Airflow|"
   ]
  },
  {
   "cell_type": "markdown",
   "id": "ae3e3395-3787-411f-96cc-d3b3f1e33890",
   "metadata": {},
   "source": [
    "### Below are a few examples of evaluating arithmetic expressions in Python"
   ]
  },
  {
   "cell_type": "code",
   "execution_count": 3,
   "id": "4d37fdf6-cd81-49b2-a195-b5ea30d0b0dd",
   "metadata": {},
   "outputs": [
    {
     "data": {
      "text/plain": [
       "17"
      ]
     },
     "execution_count": 3,
     "metadata": {},
     "output_type": "execute_result"
    }
   ],
   "source": [
    "# This a simple arithmetic expression to multiply then add integers\n",
    "(3*4)+5"
   ]
  },
  {
   "cell_type": "code",
   "execution_count": 4,
   "id": "e25d9fc9-d318-44c1-b8ea-99326a4837cd",
   "metadata": {},
   "outputs": [
    {
     "data": {
      "text/plain": [
       "3.3333333333333335"
      ]
     },
     "execution_count": 4,
     "metadata": {},
     "output_type": "execute_result"
    }
   ],
   "source": [
    "# This will convert 200 minutes to hours by diving by 60\n",
    "200/60"
   ]
  },
  {
   "cell_type": "markdown",
   "id": "13a5b855-f5b9-4e53-b17d-06a3dddca6a8",
   "metadata": {},
   "source": [
    "## Author\n",
    "Nelio Junior"
   ]
  }
 ],
 "metadata": {
  "kernelspec": {
   "display_name": "Python 3 (ipykernel)",
   "language": "python",
   "name": "python3"
  },
  "language_info": {
   "codemirror_mode": {
    "name": "ipython",
    "version": 3
   },
   "file_extension": ".py",
   "mimetype": "text/x-python",
   "name": "python",
   "nbconvert_exporter": "python",
   "pygments_lexer": "ipython3",
   "version": "3.12.8"
  }
 },
 "nbformat": 4,
 "nbformat_minor": 5
}
